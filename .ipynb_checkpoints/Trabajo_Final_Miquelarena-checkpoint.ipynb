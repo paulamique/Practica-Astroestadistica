{
 "cells": [
  {
   "cell_type": "markdown",
   "id": "d0fc3c63",
   "metadata": {},
   "source": [
    "# Práctico final de curso \"Astroestadística\""
   ]
  },
  {
   "cell_type": "markdown",
   "id": "2cb923d4",
   "metadata": {},
   "source": [
    "    El catálogo que se usará en el presente trabajo es el \"All Sky Automated Survey for SuperNovae\" (ASAS-SN), primer survey óptico capaz de monitorear el cielo en su totalidad desde la Tierra, alcanzando un límite de magnitud V=18. \n",
    "    Si bien el proyecto se enfoca principalmente en detectar supernovas brillantes, también ha descubierto una gran cantidad de estrellas variables de diversos tipos (Cefeidas, RR Lyrae, Rotacionales, entre otras). \n",
    "    Para este trabajo se utilizarán las binarias eclipsantes provenientes de dicho catálogo con el objetivo de clasificarlas en detached (EA), semi-detached (EB) y binarias de contacto (EW).\n",
    "    La muestra a analizar consta de 154530 objetos. Además se empleará una muestra de entrenamiento de 70000 binarias provenientes del mismo catálogo."
   ]
  },
  {
   "cell_type": "code",
   "execution_count": 1,
   "id": "90fde7a0",
   "metadata": {},
   "outputs": [],
   "source": [
    "import numpy as np\n",
    "import pandas as pd\n",
    "import seaborn as sns\n",
    "sns.set()"
   ]
  },
  {
   "cell_type": "code",
   "execution_count": 2,
   "id": "d497ea08",
   "metadata": {},
   "outputs": [],
   "source": [
    "tabla = pd.read_csv('binaries_con_clasif.csv')\n",
    "muestra=pd.DataFrame(tabla)\n",
    "tabla2 = pd.read_csv('train.csv')\n",
    "train=pd.DataFrame(tabla2)"
   ]
  },
  {
   "cell_type": "markdown",
   "id": "6c9a04c9",
   "metadata": {},
   "source": [
    "Las muestras cuenta con 36 variables, cuyos nombres se detallan a continuación."
   ]
  },
  {
   "cell_type": "code",
   "execution_count": 3,
   "id": "d500f3d0",
   "metadata": {},
   "outputs": [
    {
     "data": {
      "text/plain": [
       "Index(['raj2000', 'dej2000', 'l', 'b', 'mean_vmag', 'amplitude', 'period',\n",
       "       'variable_type', 'class_probability', 'phot_g_mean_mag',\n",
       "       'e_phot_g_mean_mag', 'phot_bp_mean_mag', 'e_phot_bp_mean_mag',\n",
       "       'phot_rp_mean_mag', 'e_phot_rp_mean_mag', 'bp_rp', 'parallax',\n",
       "       'parallax_error', 'vt', 'dist', 'j_mag', 'e_j_mag', 'h_mag', 'e_h_mag',\n",
       "       'k_mag', 'e_k_mag', 'w1_mag', 'e_w1_mag', 'w2_mag', 'e_w2_mag',\n",
       "       'w3_mag', 'e_w3_mag', 'w4_mag', 'e_w4_mag', 'w1_w2', 'w3_w4'],\n",
       "      dtype='object')"
      ]
     },
     "execution_count": 3,
     "metadata": {},
     "output_type": "execute_result"
    }
   ],
   "source": [
    "muestra.columns"
   ]
  },
  {
   "cell_type": "code",
   "execution_count": 4,
   "id": "e706be8a",
   "metadata": {},
   "outputs": [
    {
     "data": {
      "text/plain": [
       "Index(['raj2000', 'dej2000', 'l', 'b', 'mean_vmag', 'amplitude', 'period',\n",
       "       'variable_type', 'class_probability', 'phot_g_mean_mag',\n",
       "       'e_phot_g_mean_mag', 'phot_bp_mean_mag', 'e_phot_bp_mean_mag',\n",
       "       'phot_rp_mean_mag', 'e_phot_rp_mean_mag', 'bp_rp', 'parallax',\n",
       "       'parallax_error', 'vt', 'dist', 'j_mag', 'e_j_mag', 'h_mag', 'e_h_mag',\n",
       "       'k_mag', 'e_k_mag', 'w1_mag', 'e_w1_mag', 'w2_mag', 'e_w2_mag',\n",
       "       'w3_mag', 'e_w3_mag', 'w4_mag', 'e_w4_mag', 'w1_w2', 'w3_w4'],\n",
       "      dtype='object')"
      ]
     },
     "execution_count": 4,
     "metadata": {},
     "output_type": "execute_result"
    }
   ],
   "source": [
    "train.columns"
   ]
  },
  {
   "cell_type": "markdown",
   "id": "5d008a94",
   "metadata": {},
   "source": [
    "Se eliminan todos los posibles valores NaN que existan en ambas tablas. Durante este paso se ignoran las columnas de error 'e_w3_mag' y 'e_w4_mag', dado que poseen muchos valores NaN, luego se decidirá cómo proseguir con ellas."
   ]
  },
  {
   "cell_type": "code",
   "execution_count": 5,
   "id": "e943b753",
   "metadata": {},
   "outputs": [],
   "source": [
    "muestra = muestra.dropna(subset=['raj2000', 'dej2000', 'l', 'b', 'mean_vmag', 'amplitude', 'period',\n",
    "       'variable_type', 'class_probability', 'phot_g_mean_mag',\n",
    "       'e_phot_g_mean_mag', 'phot_bp_mean_mag', 'e_phot_bp_mean_mag',\n",
    "       'phot_rp_mean_mag', 'e_phot_rp_mean_mag', 'bp_rp', 'parallax',\n",
    "       'parallax_error', 'vt', 'dist', 'j_mag', 'e_j_mag', 'h_mag', 'e_h_mag',\n",
    "       'k_mag', 'e_k_mag', 'w1_mag', 'e_w1_mag', 'w2_mag', 'e_w2_mag',\n",
    "       'w3_mag','w4_mag', 'w1_w2', 'w3_w4'])"
   ]
  },
  {
   "cell_type": "code",
   "execution_count": 6,
   "id": "df0bead5",
   "metadata": {},
   "outputs": [],
   "source": [
    "train = train.dropna(subset=['raj2000', 'dej2000', 'l', 'b', 'mean_vmag', 'amplitude', 'period',\n",
    "       'variable_type', 'class_probability', 'phot_g_mean_mag',\n",
    "       'e_phot_g_mean_mag', 'phot_bp_mean_mag', 'e_phot_bp_mean_mag',\n",
    "       'phot_rp_mean_mag', 'e_phot_rp_mean_mag', 'bp_rp', 'parallax',\n",
    "       'parallax_error', 'vt', 'dist', 'j_mag', 'e_j_mag', 'h_mag', 'e_h_mag',\n",
    "       'k_mag', 'e_k_mag', 'w1_mag', 'e_w1_mag', 'w2_mag', 'e_w2_mag',\n",
    "       'w3_mag','w4_mag', 'w1_w2', 'w3_w4'])"
   ]
  },
  {
   "cell_type": "code",
   "execution_count": 7,
   "id": "4e6ad9bf",
   "metadata": {},
   "outputs": [
    {
     "data": {
      "text/plain": [
       "(144141, 36)"
      ]
     },
     "execution_count": 7,
     "metadata": {},
     "output_type": "execute_result"
    }
   ],
   "source": [
    "muestra.shape"
   ]
  },
  {
   "cell_type": "code",
   "execution_count": 8,
   "id": "bc268022",
   "metadata": {},
   "outputs": [
    {
     "data": {
      "text/plain": [
       "(65260, 36)"
      ]
     },
     "execution_count": 8,
     "metadata": {},
     "output_type": "execute_result"
    }
   ],
   "source": [
    "train. shape"
   ]
  },
  {
   "cell_type": "markdown",
   "id": "5ca0550a",
   "metadata": {},
   "source": [
    "Una vez eliminados tales objetos de la muestra, nos quedamos con un conjunto de 144141 datos para clasificar y 65260 objetos en la muestra de entrenamiento."
   ]
  },
  {
   "cell_type": "code",
   "execution_count": null,
   "id": "b1994c00",
   "metadata": {},
   "outputs": [],
   "source": []
  }
 ],
 "metadata": {
  "kernelspec": {
   "display_name": "Python 3 (ipykernel)",
   "language": "python",
   "name": "python3"
  },
  "language_info": {
   "codemirror_mode": {
    "name": "ipython",
    "version": 3
   },
   "file_extension": ".py",
   "mimetype": "text/x-python",
   "name": "python",
   "nbconvert_exporter": "python",
   "pygments_lexer": "ipython3",
   "version": "3.9.7"
  }
 },
 "nbformat": 4,
 "nbformat_minor": 5
}
