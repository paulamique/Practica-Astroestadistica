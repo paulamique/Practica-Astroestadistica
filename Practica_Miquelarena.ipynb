{
 "cells": [
  {
   "cell_type": "markdown",
   "id": "d0fc3c63",
   "metadata": {},
   "source": [
    "# Práctico final de curso \"Astroestadística\""
   ]
  },
  {
   "cell_type": "markdown",
   "id": "2cb923d4",
   "metadata": {},
   "source": [
    "    El catálogo que se usará en el presente trabajo es el \"All Sky Automated Survey for SuperNovae\" (ASAS-SN), primer survey óptico capaz de monitorear el cielo en su totalidad desde la Tierra, alcanzando un límite de magnitud V=18. \n",
    "    Si bien el proyecto se enfoca principalmente en detectar supernovas brillantes, también ha descubierto una gran cantidad de estrellas variables de diversos tipos (Cefeidas, RR Lyrae, Rotacionales, entre otras). \n",
    "    Para este trabajo se utilizarán las binarias eclipsantes provenientes de dicho catálogo con el objetivo de clasificarlas en detached (EA), semi-detached (EB) y binarias de contacto (EW).\n",
    "    La muestra a analizar consta de 154530 objetos. Además se empleará una muestra de entrenamiento de 70000 binarias provenientes del mismo catálogo."
   ]
  },
  {
   "cell_type": "code",
   "execution_count": 1,
   "id": "30e7e8fb",
   "metadata": {},
   "outputs": [],
   "source": [
    "import numpy as np\n",
    "import pandas as pd\n",
    "import seaborn as sns\n",
    "sns.set()"
   ]
  },
  {
   "cell_type": "code",
   "execution_count": 3,
   "id": "5aa735bc",
   "metadata": {},
   "outputs": [],
   "source": [
    "tabla = pd.read_csv('binaries_con_clasif.csv')\n",
    "muestra=pd.DataFrame(tabla)\n",
    "tabla2 = pd.read_csv('train.csv')\n",
    "train=pd.DataFrame(tabla2)"
   ]
  },
  {
   "cell_type": "markdown",
   "id": "394bb261",
   "metadata": {},
   "source": [
    "Las muestras cuenta con 36 variables, cuyos nombres se detallan a continuación."
   ]
  },
  {
   "cell_type": "code",
   "execution_count": 4,
   "id": "40a51c0a",
   "metadata": {},
   "outputs": [
    {
     "data": {
      "text/plain": [
       "Index(['raj2000', 'dej2000', 'l', 'b', 'mean_vmag', 'amplitude', 'period',\n",
       "       'variable_type', 'class_probability', 'phot_g_mean_mag',\n",
       "       'e_phot_g_mean_mag', 'phot_bp_mean_mag', 'e_phot_bp_mean_mag',\n",
       "       'phot_rp_mean_mag', 'e_phot_rp_mean_mag', 'bp_rp', 'parallax',\n",
       "       'parallax_error', 'vt', 'dist', 'j_mag', 'e_j_mag', 'h_mag', 'e_h_mag',\n",
       "       'k_mag', 'e_k_mag', 'w1_mag', 'e_w1_mag', 'w2_mag', 'e_w2_mag',\n",
       "       'w3_mag', 'e_w3_mag', 'w4_mag', 'e_w4_mag', 'w1_w2', 'w3_w4'],\n",
       "      dtype='object')"
      ]
     },
     "execution_count": 4,
     "metadata": {},
     "output_type": "execute_result"
    }
   ],
   "source": [
    "muestra.columns"
   ]
  },
  {
   "cell_type": "code",
   "execution_count": 7,
   "id": "3855cc94",
   "metadata": {},
   "outputs": [
    {
     "data": {
      "text/plain": [
       "Index(['raj2000', 'dej2000', 'l', 'b', 'mean_vmag', 'amplitude', 'period',\n",
       "       'variable_type', 'class_probability', 'phot_g_mean_mag',\n",
       "       'e_phot_g_mean_mag', 'phot_bp_mean_mag', 'e_phot_bp_mean_mag',\n",
       "       'phot_rp_mean_mag', 'e_phot_rp_mean_mag', 'bp_rp', 'parallax',\n",
       "       'parallax_error', 'vt', 'dist', 'j_mag', 'e_j_mag', 'h_mag', 'e_h_mag',\n",
       "       'k_mag', 'e_k_mag', 'w1_mag', 'e_w1_mag', 'w2_mag', 'e_w2_mag',\n",
       "       'w3_mag', 'e_w3_mag', 'w4_mag', 'e_w4_mag', 'w1_w2', 'w3_w4'],\n",
       "      dtype='object')"
      ]
     },
     "execution_count": 7,
     "metadata": {},
     "output_type": "execute_result"
    }
   ],
   "source": [
    "train.columns"
   ]
  },
  {
   "cell_type": "markdown",
   "id": "5d008a94",
   "metadata": {},
   "source": [
    "Se eliminan todos los posibles valores NaN que existan en ambas tablas. Durante este paso se ignoran las columnas de error, dado que poseen muchos valores NaN, luego se decidirá cómo proseguir con ellas."
   ]
  },
  {
   "cell_type": "code",
   "execution_count": 8,
   "id": "88be9e9c",
   "metadata": {},
   "outputs": [],
   "source": [
    "muestra = muestra.dropna(subset=['raj2000', 'dej2000', 'l', 'b', 'mean_vmag', 'amplitude', 'period',\n",
    "       'class_probability', 'phot_g_mean_mag','phot_bp_mean_mag','phot_rp_mean_mag','bp_rp', 'parallax','vt',\n",
    "       'dist', 'j_mag','h_mag','k_mag','w1_mag', 'w2_mag', 'w3_mag','w4_mag', 'w1_w2', 'w3_w4'])"
   ]
  },
  {
   "cell_type": "code",
   "execution_count": 9,
   "id": "1fa001e2",
   "metadata": {},
   "outputs": [],
   "source": [
    "train = train.dropna(subset=['raj2000', 'dej2000', 'l', 'b', 'mean_vmag', 'amplitude', 'period',\n",
    "       'class_probability', 'phot_g_mean_mag','phot_bp_mean_mag','phot_rp_mean_mag','bp_rp', 'parallax','vt',\n",
    "       'dist', 'j_mag','h_mag','k_mag','w1_mag', 'w2_mag', 'w3_mag','w4_mag', 'w1_w2', 'w3_w4'])"
   ]
  },
  {
   "cell_type": "code",
   "execution_count": 14,
   "id": "31f78bf9",
   "metadata": {},
   "outputs": [
    {
     "data": {
      "text/plain": [
       "(146707, 31)"
      ]
     },
     "execution_count": 14,
     "metadata": {},
     "output_type": "execute_result"
    }
   ],
   "source": [
    "muestra.shape"
   ]
  },
  {
   "cell_type": "code",
   "execution_count": 15,
   "id": "2556fa83",
   "metadata": {},
   "outputs": [
    {
     "data": {
      "text/plain": [
       "(66412, 31)"
      ]
     },
     "execution_count": 15,
     "metadata": {},
     "output_type": "execute_result"
    }
   ],
   "source": [
    "train. shape"
   ]
  },
  {
   "cell_type": "markdown",
   "id": "394bb261",
   "metadata": {},
   "source": [
    "Una vez eliminados tales objetos de la muestra, nos quedamos con un conjunto de 146707 datos para clasificar y 66412 objetos en la muestra de entrenamiento."
   ]
  },
  {
   "cell_type": "markdown",
   "id": "0e05165d",
   "metadata": {},
   "source": [
    "# Análisis exploratorio de datos"
   ]
  },
  {
   "cell_type": "markdown",
   "id": "394bb261",
   "metadata": {},
   "source": [
    "Se comienza analizando la media y varianza de las variables de la muestra."
   ]
  },
  {
   "cell_type": "code",
   "execution_count": 22,
   "id": "2944e7fd",
   "metadata": {},
   "outputs": [
    {
     "name": "stderr",
     "output_type": "stream",
     "text": [
      "/var/folders/b4/t_bhm3h53198041gt8xlqx4h0000gn/T/ipykernel_54612/1878694722.py:1: FutureWarning: Dropping of nuisance columns in DataFrame reductions (with 'numeric_only=None') is deprecated; in a future version this will raise TypeError.  Select only valid columns before calling the reduction.\n",
      "  muestra.mean(axis=0)\n"
     ]
    },
    {
     "data": {
      "text/plain": [
       "mean_vmag               14.306189\n",
       "amplitude                0.385155\n",
       "period                   1.598928\n",
       "phot_g_mean_mag         14.368941\n",
       "e_phot_g_mean_mag        0.005600\n",
       "phot_bp_mean_mag        14.721713\n",
       "e_phot_bp_mean_mag       0.016719\n",
       "phot_rp_mean_mag        13.778072\n",
       "e_phot_rp_mean_mag       0.015491\n",
       "bp_rp                    0.943816\n",
       "parallax                 0.871614\n",
       "parallax_error           0.049053\n",
       "vt                      57.509610\n",
       "dist                  1815.316329\n",
       "j_mag                   13.019370\n",
       "e_j_mag                  0.029044\n",
       "h_mag                   12.677035\n",
       "e_h_mag                  0.034161\n",
       "k_mag                   12.578118\n",
       "e_k_mag                  0.039216\n",
       "w1_mag                  12.474853\n",
       "e_w1_mag                 0.026297\n",
       "w2_mag                  12.507695\n",
       "e_w2_mag                 0.030543\n",
       "w3_mag                  11.849070\n",
       "e_w3_mag                 0.236301\n",
       "w4_mag                   8.877702\n",
       "e_w4_mag                 0.343496\n",
       "w1_w2                   -0.032842\n",
       "w3_w4                    2.971368\n",
       "dtype: float64"
      ]
     },
     "execution_count": 22,
     "metadata": {},
     "output_type": "execute_result"
    }
   ],
   "source": [
    "muestra.mean(axis=0)"
   ]
  },
  {
   "cell_type": "code",
   "execution_count": 20,
   "id": "ef61f0d8",
   "metadata": {},
   "outputs": [
    {
     "name": "stderr",
     "output_type": "stream",
     "text": [
      "/var/folders/b4/t_bhm3h53198041gt8xlqx4h0000gn/T/ipykernel_54612/112921858.py:1: FutureWarning: Dropping of nuisance columns in DataFrame reductions (with 'numeric_only=None') is deprecated; in a future version this will raise TypeError.  Select only valid columns before calling the reduction.\n",
      "  muestra.var(axis=0)\n"
     ]
    },
    {
     "data": {
      "text/plain": [
       "mean_vmag             1.680007e+00\n",
       "amplitude             6.048845e-02\n",
       "period                4.831291e+01\n",
       "phot_g_mean_mag       2.351514e+00\n",
       "e_phot_g_mean_mag     9.882845e-06\n",
       "phot_bp_mean_mag      2.342438e+00\n",
       "e_phot_bp_mean_mag    8.046117e-04\n",
       "phot_rp_mean_mag      2.076489e+00\n",
       "e_phot_rp_mean_mag    6.188736e-04\n",
       "bp_rp                 1.024425e-01\n",
       "parallax              7.783338e-01\n",
       "parallax_error        1.236558e-02\n",
       "vt                    7.290635e+04\n",
       "dist                  2.463213e+06\n",
       "j_mag                 1.697720e+00\n",
       "e_j_mag               1.008169e-04\n",
       "h_mag                 1.705258e+00\n",
       "e_h_mag               1.655764e-03\n",
       "k_mag                 1.740458e+00\n",
       "e_k_mag               2.112045e-03\n",
       "w1_mag                1.793626e+00\n",
       "e_w1_mag              1.342804e-04\n",
       "w2_mag                1.816518e+00\n",
       "e_w2_mag              2.679961e-04\n",
       "w3_mag                8.594338e-01\n",
       "e_w3_mag              2.026555e-02\n",
       "w4_mag                2.587166e-01\n",
       "e_w4_mag              2.196436e-02\n",
       "w1_w2                 5.054085e-03\n",
       "w3_w4                 6.289244e-01\n",
       "dtype: float64"
      ]
     },
     "execution_count": 20,
     "metadata": {},
     "output_type": "execute_result"
    }
   ],
   "source": [
    "muestra.var(axis=0)"
   ]
  },
  {
   "cell_type": "markdown",
   "id": "3d914ba3",
   "metadata": {},
   "source": [
    "    Es necesario estandarizar las variables dado que algunas tienen valores muy elevados (dist, vt) respecto al resto y podrían dominar las componentes principales al hacer el análisis PCA"
   ]
  },
  {
   "cell_type": "code",
   "execution_count": null,
   "id": "44985a28",
   "metadata": {},
   "outputs": [],
   "source": []
  }
 ],
 "metadata": {
  "kernelspec": {
   "display_name": "Python 3 (ipykernel)",
   "language": "python",
   "name": "python3"
  },
  "language_info": {
   "codemirror_mode": {
    "name": "ipython",
    "version": 3
   },
   "file_extension": ".py",
   "mimetype": "text/x-python",
   "name": "python",
   "nbconvert_exporter": "python",
   "pygments_lexer": "ipython3",
   "version": "3.9.7"
  }
 },
 "nbformat": 4,
 "nbformat_minor": 5
}
